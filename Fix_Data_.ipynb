{
 "cells": [
  {
   "cell_type": "code",
   "execution_count": 1,
   "id": "67577011-f382-458b-a89d-328b880c8a17",
   "metadata": {},
   "outputs": [],
   "source": [
    "import pandas as pd\n",
    "import sqlite3"
   ]
  },
  {
   "cell_type": "code",
   "execution_count": 2,
   "id": "58683626-456e-4f7c-9f5e-5ccced8b834f",
   "metadata": {},
   "outputs": [
    {
     "name": "stdout",
     "output_type": "stream",
     "text": [
      "Collecting ipython-sql\n",
      "  Downloading ipython_sql-0.5.0-py3-none-any.whl.metadata (17 kB)\n",
      "Collecting prettytable (from ipython-sql)\n",
      "  Downloading prettytable-3.11.0-py3-none-any.whl.metadata (30 kB)\n",
      "Requirement already satisfied: ipython in c:\\users\\dell\\appdata\\local\\programs\\python\\python312\\lib\\site-packages (from ipython-sql) (8.26.0)\n",
      "Requirement already satisfied: sqlalchemy>=2.0 in c:\\users\\dell\\appdata\\local\\programs\\python\\python312\\lib\\site-packages (from ipython-sql) (2.0.32)\n",
      "Collecting sqlparse (from ipython-sql)\n",
      "  Downloading sqlparse-0.5.1-py3-none-any.whl.metadata (3.9 kB)\n",
      "Requirement already satisfied: six in c:\\users\\dell\\appdata\\local\\programs\\python\\python312\\lib\\site-packages (from ipython-sql) (1.16.0)\n",
      "Collecting ipython-genutils (from ipython-sql)\n",
      "  Downloading ipython_genutils-0.2.0-py2.py3-none-any.whl.metadata (755 bytes)\n",
      "Requirement already satisfied: typing-extensions>=4.6.0 in c:\\users\\dell\\appdata\\local\\programs\\python\\python312\\lib\\site-packages (from sqlalchemy>=2.0->ipython-sql) (4.12.2)\n",
      "Requirement already satisfied: greenlet!=0.4.17 in c:\\users\\dell\\appdata\\local\\programs\\python\\python312\\lib\\site-packages (from sqlalchemy>=2.0->ipython-sql) (3.0.3)\n",
      "Requirement already satisfied: decorator in c:\\users\\dell\\appdata\\local\\programs\\python\\python312\\lib\\site-packages (from ipython->ipython-sql) (5.1.1)\n",
      "Requirement already satisfied: jedi>=0.16 in c:\\users\\dell\\appdata\\local\\programs\\python\\python312\\lib\\site-packages (from ipython->ipython-sql) (0.19.1)\n",
      "Requirement already satisfied: matplotlib-inline in c:\\users\\dell\\appdata\\local\\programs\\python\\python312\\lib\\site-packages (from ipython->ipython-sql) (0.1.7)\n",
      "Requirement already satisfied: prompt-toolkit<3.1.0,>=3.0.41 in c:\\users\\dell\\appdata\\local\\programs\\python\\python312\\lib\\site-packages (from ipython->ipython-sql) (3.0.47)\n",
      "Requirement already satisfied: pygments>=2.4.0 in c:\\users\\dell\\appdata\\local\\programs\\python\\python312\\lib\\site-packages (from ipython->ipython-sql) (2.18.0)\n",
      "Requirement already satisfied: stack-data in c:\\users\\dell\\appdata\\local\\programs\\python\\python312\\lib\\site-packages (from ipython->ipython-sql) (0.6.3)\n",
      "Requirement already satisfied: traitlets>=5.13.0 in c:\\users\\dell\\appdata\\local\\programs\\python\\python312\\lib\\site-packages (from ipython->ipython-sql) (5.14.3)\n",
      "Requirement already satisfied: colorama in c:\\users\\dell\\appdata\\local\\programs\\python\\python312\\lib\\site-packages (from ipython->ipython-sql) (0.4.6)\n",
      "Requirement already satisfied: wcwidth in c:\\users\\dell\\appdata\\local\\programs\\python\\python312\\lib\\site-packages (from prettytable->ipython-sql) (0.2.13)\n",
      "Requirement already satisfied: parso<0.9.0,>=0.8.3 in c:\\users\\dell\\appdata\\local\\programs\\python\\python312\\lib\\site-packages (from jedi>=0.16->ipython->ipython-sql) (0.8.4)\n",
      "Requirement already satisfied: executing>=1.2.0 in c:\\users\\dell\\appdata\\local\\programs\\python\\python312\\lib\\site-packages (from stack-data->ipython->ipython-sql) (2.0.1)\n",
      "Requirement already satisfied: asttokens>=2.1.0 in c:\\users\\dell\\appdata\\local\\programs\\python\\python312\\lib\\site-packages (from stack-data->ipython->ipython-sql) (2.4.1)\n",
      "Requirement already satisfied: pure-eval in c:\\users\\dell\\appdata\\local\\programs\\python\\python312\\lib\\site-packages (from stack-data->ipython->ipython-sql) (0.2.3)\n",
      "Downloading ipython_sql-0.5.0-py3-none-any.whl (20 kB)\n",
      "Downloading ipython_genutils-0.2.0-py2.py3-none-any.whl (26 kB)\n",
      "Downloading prettytable-3.11.0-py3-none-any.whl (28 kB)\n",
      "Downloading sqlparse-0.5.1-py3-none-any.whl (44 kB)\n",
      "Installing collected packages: ipython-genutils, sqlparse, prettytable, ipython-sql\n",
      "Successfully installed ipython-genutils-0.2.0 ipython-sql-0.5.0 prettytable-3.11.0 sqlparse-0.5.1\n"
     ]
    }
   ],
   "source": [
    "!pip install ipython-sql"
   ]
  },
  {
   "cell_type": "code",
   "execution_count": 3,
   "id": "7ef08150-55a7-4e4b-b3a1-c908f81effe6",
   "metadata": {},
   "outputs": [
    {
     "data": {
      "text/html": [
       "<div>\n",
       "<style scoped>\n",
       "    .dataframe tbody tr th:only-of-type {\n",
       "        vertical-align: middle;\n",
       "    }\n",
       "\n",
       "    .dataframe tbody tr th {\n",
       "        vertical-align: top;\n",
       "    }\n",
       "\n",
       "    .dataframe thead th {\n",
       "        text-align: right;\n",
       "    }\n",
       "</style>\n",
       "<table border=\"1\" class=\"dataframe\">\n",
       "  <thead>\n",
       "    <tr style=\"text-align: right;\">\n",
       "      <th></th>\n",
       "      <th>name</th>\n",
       "      <th>age</th>\n",
       "      <th>city</th>\n",
       "    </tr>\n",
       "  </thead>\n",
       "  <tbody>\n",
       "    <tr>\n",
       "      <th>0</th>\n",
       "      <td>Juan</td>\n",
       "      <td>23</td>\n",
       "      <td>Miami</td>\n",
       "    </tr>\n",
       "    <tr>\n",
       "      <th>1</th>\n",
       "      <td>Victoria</td>\n",
       "      <td>34</td>\n",
       "      <td>Buenos Aires</td>\n",
       "    </tr>\n",
       "    <tr>\n",
       "      <th>2</th>\n",
       "      <td>Mary</td>\n",
       "      <td>43</td>\n",
       "      <td>Santiago</td>\n",
       "    </tr>\n",
       "  </tbody>\n",
       "</table>\n",
       "</div>"
      ],
      "text/plain": [
       "       name  age          city\n",
       "0      Juan   23         Miami\n",
       "1  Victoria   34  Buenos Aires\n",
       "2      Mary   43      Santiago"
      ]
     },
     "execution_count": 3,
     "metadata": {},
     "output_type": "execute_result"
    }
   ],
   "source": [
    "df= pd.DataFrame({'name': ['Juan', 'Victoria', 'Mary'], \n",
    "                  'age': [23,34,43], \n",
    "                  'city': ['Miami', 'Buenos Aires','Santiago']})\n",
    "\n",
    "df"
   ]
  },
  {
   "cell_type": "code",
   "execution_count": 4,
   "id": "35215516-712c-4431-8d9a-f11274e109db",
   "metadata": {},
   "outputs": [],
   "source": [
    "cnn = sqlite3.connect('jupyter_sql_tutorial.db')"
   ]
  },
  {
   "cell_type": "code",
   "execution_count": 5,
   "id": "8b386412-c5b7-41a1-ab18-2f6b31e19af3",
   "metadata": {},
   "outputs": [
    {
     "data": {
      "text/plain": [
       "3"
      ]
     },
     "execution_count": 5,
     "metadata": {},
     "output_type": "execute_result"
    }
   ],
   "source": [
    "df.to_sql('people', cnn)"
   ]
  },
  {
   "cell_type": "code",
   "execution_count": 6,
   "id": "156b06dc-1227-46c8-a305-eb4cb0ee96d5",
   "metadata": {},
   "outputs": [],
   "source": [
    "%load_ext sql"
   ]
  },
  {
   "cell_type": "code",
   "execution_count": 7,
   "id": "b19d6392-c4da-487c-9717-71ee4b8dc81e",
   "metadata": {},
   "outputs": [
    {
     "name": "stdout",
     "output_type": "stream",
     "text": [
      "The sql extension is already loaded. To reload it, use:\n",
      "  %reload_ext sql\n"
     ]
    }
   ],
   "source": [
    "%load_ext sql"
   ]
  },
  {
   "cell_type": "code",
   "execution_count": 8,
   "id": "47126b59-f2b1-4218-87a3-42bdf38f82ee",
   "metadata": {},
   "outputs": [],
   "source": [
    "%sql sqlite:///jupyter_sql_tutorial.db"
   ]
  },
  {
   "cell_type": "code",
   "execution_count": 9,
   "id": "be862272-3afc-4483-90e0-72c4dfe5b28d",
   "metadata": {},
   "outputs": [
    {
     "name": "stdout",
     "output_type": "stream",
     "text": [
      " * sqlite:///jupyter_sql_tutorial.db\n",
      "Done.\n"
     ]
    },
    {
     "data": {
      "text/html": [
       "<table>\n",
       "    <thead>\n",
       "        <tr>\n",
       "            <th>index</th>\n",
       "            <th>name</th>\n",
       "            <th>age</th>\n",
       "            <th>city</th>\n",
       "        </tr>\n",
       "    </thead>\n",
       "    <tbody>\n",
       "        <tr>\n",
       "            <td>0</td>\n",
       "            <td>Juan</td>\n",
       "            <td>23</td>\n",
       "            <td>Miami</td>\n",
       "        </tr>\n",
       "        <tr>\n",
       "            <td>1</td>\n",
       "            <td>Victoria</td>\n",
       "            <td>34</td>\n",
       "            <td>Buenos Aires</td>\n",
       "        </tr>\n",
       "        <tr>\n",
       "            <td>2</td>\n",
       "            <td>Mary</td>\n",
       "            <td>43</td>\n",
       "            <td>Santiago</td>\n",
       "        </tr>\n",
       "    </tbody>\n",
       "</table>"
      ],
      "text/plain": [
       "[(0, 'Juan', 23, 'Miami'),\n",
       " (1, 'Victoria', 34, 'Buenos Aires'),\n",
       " (2, 'Mary', 43, 'Santiago')]"
      ]
     },
     "execution_count": 9,
     "metadata": {},
     "output_type": "execute_result"
    }
   ],
   "source": [
    "%%sql\n",
    "SELECT *\n",
    "FROM people"
   ]
  },
  {
   "cell_type": "code",
   "execution_count": 10,
   "id": "2d9cb015-4038-43f4-81a6-33f3519f1622",
   "metadata": {},
   "outputs": [
    {
     "name": "stdout",
     "output_type": "stream",
     "text": [
      " * sqlite:///jupyter_sql_tutorial.db\n",
      "Done.\n"
     ]
    },
    {
     "data": {
      "text/html": [
       "<table>\n",
       "    <thead>\n",
       "        <tr>\n",
       "            <th>count(*)</th>\n",
       "        </tr>\n",
       "    </thead>\n",
       "    <tbody>\n",
       "        <tr>\n",
       "            <td>3</td>\n",
       "        </tr>\n",
       "    </tbody>\n",
       "</table>"
      ],
      "text/plain": [
       "[(3,)]"
      ]
     },
     "execution_count": 10,
     "metadata": {},
     "output_type": "execute_result"
    }
   ],
   "source": [
    "%%sql\n",
    "SELECT count(*)\n",
    "FROM people\n"
   ]
  },
  {
   "cell_type": "code",
   "execution_count": 11,
   "id": "7de394d1-34f1-4517-bf81-8835ff373904",
   "metadata": {},
   "outputs": [
    {
     "name": "stdout",
     "output_type": "stream",
     "text": [
      " * sqlite:///jupyter_sql_tutorial.db\n",
      "Done.\n"
     ]
    },
    {
     "data": {
      "text/html": [
       "<table>\n",
       "    <thead>\n",
       "        <tr>\n",
       "            <th>age_sum</th>\n",
       "        </tr>\n",
       "    </thead>\n",
       "    <tbody>\n",
       "        <tr>\n",
       "            <td>100</td>\n",
       "        </tr>\n",
       "    </tbody>\n",
       "</table>"
      ],
      "text/plain": [
       "[(100,)]"
      ]
     },
     "execution_count": 11,
     "metadata": {},
     "output_type": "execute_result"
    }
   ],
   "source": [
    "%%sql\n",
    "SELECT sum(age) as 'age_sum'\n",
    "FROM people"
   ]
  },
  {
   "cell_type": "code",
   "execution_count": 56,
   "id": "e590750c-5ac3-4b2e-af89-a2a90213c8af",
   "metadata": {},
   "outputs": [],
   "source": [
    "import sqlite3\n",
    "\n",
    "conn = sqlite3.connect('fix_data.db')\n",
    "cursor = conn.cursor()\n",
    "\n",
    "cursor.execute('''\n",
    "CREATE TABLE IF NOT EXISTS fix_messages (\n",
    "    MsgType  TEXT,\n",
    "    MsgSeqNum INTEGER,\n",
    "    SenderCompID TEXT,\n",
    "    TargetCompID TEXT,\n",
    "    SendingTime TEXT,\n",
    "    OrderID TEXT,\n",
    "    Side INTEGER,\n",
    "    Symbol TEXT,\n",
    "    Price REAL,\n",
    "    Quantity INTEGER\n",
    ")\n",
    "''')\n",
    "\n",
    "conn.commit()\n"
   ]
  },
  {
   "cell_type": "code",
   "execution_count": 57,
   "id": "9b0808aa-7dd4-4e80-9cc2-2be4802812a7",
   "metadata": {},
   "outputs": [],
   "source": [
    "fix_messages = [\n",
    "    \"8=FIX.4.2|9=123|35=3|34=4|49=JOHN_SENDER|56=MIKE_TARGET|52=20240826-10:03:00|35=3|34=5|49=JOHN_SENDER|56=MIKE_TARGET|37=ORD12345|54=2|10=145|\",\n",
    "\"8=FIX.4.2|9=108|35=4|34=6|49=JOHN_SENDER|56=MIKE_TARGET|52=20240826-10:04:00|36=105|10=187|\",\n",
    "\"8=FIX.4.2|9=107|35=5|34=7|49=JOHN_SENDER|56=MIKE_TARGET|52=20240826-10:05:00|10=164|\",\n",
    "\"8=FIX.4.2|9=128|35=6|34=8|49=JOHN_SENDER|56=MIKE_TARGET|52=20240826-10:06:00|55=GOOGL|54=1|10=132|\",\n",
    "\"8=FIX.4.2|9=146|35=7|34=9|49=JOHN_SENDER|56=MIKE_TARGET|52=20240826-10:07:00|55=AAPL|54=1|11=ORD456|10=202|\",\n",
    "\"8=FIX.4.2|9=140|35=8|34=10|49=JOHN_SENDER|56=MIKE_TARGET|52=20240826-10:08:00|11=ORD789|54=2|55=MSFT|32=150|31=3200|10=123|\",\n",
    "\"8=FIX.4.2|9=124|35=F|34=11|49=JOHN_SENDER|56=MIKE_TARGET|52=20240826-10:09:00|11=ORD123|54=2|41=ORIG789|10=146|\",\n",
    "\"8=FIX.4.2|9=132|35=G|34=12|49=JOHN_SENDER|56=MIKE_TARGET|52=20240826-10:10:00|11=ORD123|54=2|41=ORIG789|39=8|10=154|\",\n",
    "\"8=FIX.4.2|9=134|35=D|34=13|49=JOHN_SENDER|56=MIKE_TARGET|52=20240826-10:11:00|11=ORD234|54=1|55=TSLA|44=645.75|38=200|10=158|\",\n",
    "\"8=FIX.4.2|9=144|35=8|34=14|49=JOHN_SENDER|56=MIKE_TARGET|52=20240826-10:12:00|11=ORD234|54=1|55=TSLA|32=100|31=645.75|10=176|\",\n",
    "\"8=FIX.4.2|9=130|35=G|34=15|49=JOHN_SENDER|56=MIKE_TARGET|52=20240826-10:13:00|11=ORD234|54=1|44=655.00|38=150|10=189|\",\n",
    "\"8=FIX.4.2|9=118|35=H|34=16|49=JOHN_SENDER|56=MIKE_TARGET|52=20240826-10:14:00|11=ORD345|54=1|55=AMZN|44=3100.00|38=50|10=200|\",\n",
    "\"8=FIX.4.2|9=113|35=J|34=17|49=JOHN_SENDER|56=MIKE_TARGET|52=20240826-10:15:00|11=ORD456|54=2|55=MSFT|32=200|31=2200.00|10=189|\",\n",
    "\"8=FIX.4.2|9=127|35=K|34=18|49=JOHN_SENDER|56=MIKE_TARGET|52=20240826-10:16:00|11=ORD567|54=1|55=GOOGL|32=300|31=2900.00|10=210|\",\n",
    "\"8=FIX.4.2|9=119|35=L|34=19|49=JOHN_SENDER|56=MIKE_TARGET|52=20240826-10:17:00|11=ORD678|54=2|55=GOOGL|44=2900.00|38=100|10=232|\",\n",
    "\"8=FIX.4.2|9=121|35=M|34=20|49=JOHN_SENDER|56=MIKE_TARGET|52=20240826-10:18:00|11=ORD789|54=1|55=AAPL|32=150|31=1500.00|10=245|\",\n",
    "\"8=FIX.4.2|9=125|35=N|34=21|49=JOHN_SENDER|56=MIKE_TARGET|52=20240826-10:19:00|11=ORD890|54=2|55=AMZN|32=200|31=3100.00|10=258|\",\n",
    "\"8=FIX.4.2|9=120|35=O|34=22|49=JOHN_SENDER|56=MIKE_TARGET|52=20240826-10:20:00|11=ORD901|54=1|55=TSLA|44=655.00|38=150|10=269|\",\n",
    "\"8=FIX.4.2|9=133|35=P|34=23|49=JOHN_SENDER|56=MIKE_TARGET|52=20240826-10:21:00|11=ORD012|54=2|55=AMZN|32=100|31=3200.00|10=280|\",\n",
    "\"8=FIX.4.2|9=126|35=Q|34=24|49=JOHN_SENDER|56=MIKE_TARGET|52=20240826-10:22:00|11=ORD123|54=1|55=AAPL|44=150.00|38=200|10=291|\",\n",
    "\"8=FIX.4.2|9=145|35=R|34=25|49=JOHN_SENDER|56=MIKE_TARGET|52=20240826-10:23:00|11=ORD234|54=2|55=MSFT|32=200|31=2200.00|10=302|\",\n",
    "\"8=FIX.4.2|9=129|35=S|34=26|49=JOHN_SENDER|56=MIKE_TARGET|52=20240826-10:24:00|11=ORD345|54=1|55=GOOGL|44=3100.00|38=50|10=315|\",\n",
    "\"8=FIX.4.2|9=139|35=T|34=27|49=JOHN_SENDER|56=MIKE_TARGET|52=20240826-10:25:00|11=ORD456|54=2|55=GOOGL|32=300|31=2900.00|10=328|\",\n",
    "\"8=FIX.4.2|9=142|35=U|34=28|49=JOHN_SENDER|56=MIKE_TARGET|52=20240826-10:26:00|11=ORD567|54=1|55=AAPL|32=150|31=1500.00|10=339|\",\n",
    "\"8=FIX.4.2|9=147|35=V|34=29|49=JOHN_SENDER|56=MIKE_TARGET|52=20240826-10:27:00|11=ORD678|54=2|55=AMZN|32=200|31=3100.00|10=352|\",\n",
    "\"8=FIX.4.2|9=148|35=W|34=30|49=JOHN_SENDER|56=MIKE_TARGET|52=20240826-10:28:00|11=ORD789|54=1|55=TSLA|44=655.00|38=150|10=365|\",\n",
    "\"8=FIX.4.2|9=149|35=X|34=31|49=JOHN_SENDER|56=MIKE_TARGET|52=20240826-10:29:00|\"\n",
    "\n",
    "    \n",
    "]\n",
    "\n",
    "for message in fix_messages:\n",
    "    fields = dict(field.split('=') for field in message.split('|') if '=' in field)\n",
    "    \n",
    "    cursor.execute('''\n",
    "        INSERT INTO fix_messages (\n",
    "            MsgType, MsgSeqNum, SenderCompID, TargetCompID, SendingTime, OrderID, Side, Symbol, Price, Quantity\n",
    "        ) VALUES (\n",
    "            :MsgType, :MsgSeqNum, :SenderCompID, :TargetCompID, :SendingTime, :OrderID, :Side, :Symbol, :Price, :Quantity\n",
    "        )\n",
    "    ''', {\n",
    "        'MsgType': fields.get('35'),\n",
    "        'MsgSeqNum': fields.get('34'),\n",
    "        'SenderCompID': fields.get('49'),\n",
    "        'TargetCompID': fields.get('56'),\n",
    "        'SendingTime': fields.get('52'),\n",
    "        'OrderID': fields.get('11'),\n",
    "        'Side': fields.get('54'),\n",
    "        'Symbol': fields.get('55'),\n",
    "        'Price': fields.get('44'),\n",
    "        'Quantity': fields.get('38'),\n",
    "    })\n",
    "\n",
    "conn.commit()\n"
   ]
  },
  {
   "cell_type": "code",
   "execution_count": 58,
   "id": "85bdb6b5-5d61-42d3-aa6b-bb7ff4ca9519",
   "metadata": {},
   "outputs": [
    {
     "data": {
      "text/html": [
       "<div>\n",
       "<style scoped>\n",
       "    .dataframe tbody tr th:only-of-type {\n",
       "        vertical-align: middle;\n",
       "    }\n",
       "\n",
       "    .dataframe tbody tr th {\n",
       "        vertical-align: top;\n",
       "    }\n",
       "\n",
       "    .dataframe thead th {\n",
       "        text-align: right;\n",
       "    }\n",
       "</style>\n",
       "<table border=\"1\" class=\"dataframe\">\n",
       "  <thead>\n",
       "    <tr style=\"text-align: right;\">\n",
       "      <th></th>\n",
       "      <th>MsgType</th>\n",
       "      <th>MsgSeqNum</th>\n",
       "      <th>SenderCompID</th>\n",
       "      <th>TargetCompID</th>\n",
       "      <th>SendingTime</th>\n",
       "      <th>OrderID</th>\n",
       "      <th>Side</th>\n",
       "      <th>Symbol</th>\n",
       "      <th>Price</th>\n",
       "      <th>Quantity</th>\n",
       "    </tr>\n",
       "  </thead>\n",
       "  <tbody>\n",
       "    <tr>\n",
       "      <th>0</th>\n",
       "      <td>0</td>\n",
       "      <td>1</td>\n",
       "      <td>JOHN_SENDER</td>\n",
       "      <td>MIKE_TARGET</td>\n",
       "      <td>20240826-10:00:00</td>\n",
       "      <td>None</td>\n",
       "      <td>NaN</td>\n",
       "      <td>None</td>\n",
       "      <td>NaN</td>\n",
       "      <td>NaN</td>\n",
       "    </tr>\n",
       "    <tr>\n",
       "      <th>1</th>\n",
       "      <td>1</td>\n",
       "      <td>2</td>\n",
       "      <td>JOHN_SENDER</td>\n",
       "      <td>MIKE_TARGET</td>\n",
       "      <td>20240826-10:01:00</td>\n",
       "      <td>None</td>\n",
       "      <td>NaN</td>\n",
       "      <td>None</td>\n",
       "      <td>NaN</td>\n",
       "      <td>NaN</td>\n",
       "    </tr>\n",
       "    <tr>\n",
       "      <th>2</th>\n",
       "      <td>2</td>\n",
       "      <td>3</td>\n",
       "      <td>JOHN_SENDER</td>\n",
       "      <td>MIKE_TARGET</td>\n",
       "      <td>20240826-10:02:00</td>\n",
       "      <td>None</td>\n",
       "      <td>NaN</td>\n",
       "      <td>None</td>\n",
       "      <td>NaN</td>\n",
       "      <td>NaN</td>\n",
       "    </tr>\n",
       "    <tr>\n",
       "      <th>3</th>\n",
       "      <td>0</td>\n",
       "      <td>1</td>\n",
       "      <td>JOHN_SENDER</td>\n",
       "      <td>MIKE_TARGET</td>\n",
       "      <td>20240826-10:00:00</td>\n",
       "      <td>None</td>\n",
       "      <td>NaN</td>\n",
       "      <td>None</td>\n",
       "      <td>NaN</td>\n",
       "      <td>NaN</td>\n",
       "    </tr>\n",
       "    <tr>\n",
       "      <th>4</th>\n",
       "      <td>1</td>\n",
       "      <td>2</td>\n",
       "      <td>JOHN_SENDER</td>\n",
       "      <td>MIKE_TARGET</td>\n",
       "      <td>20240826-10:01:00</td>\n",
       "      <td>None</td>\n",
       "      <td>NaN</td>\n",
       "      <td>None</td>\n",
       "      <td>NaN</td>\n",
       "      <td>NaN</td>\n",
       "    </tr>\n",
       "    <tr>\n",
       "      <th>...</th>\n",
       "      <td>...</td>\n",
       "      <td>...</td>\n",
       "      <td>...</td>\n",
       "      <td>...</td>\n",
       "      <td>...</td>\n",
       "      <td>...</td>\n",
       "      <td>...</td>\n",
       "      <td>...</td>\n",
       "      <td>...</td>\n",
       "      <td>...</td>\n",
       "    </tr>\n",
       "    <tr>\n",
       "      <th>61</th>\n",
       "      <td>T</td>\n",
       "      <td>27</td>\n",
       "      <td>JOHN_SENDER</td>\n",
       "      <td>MIKE_TARGET</td>\n",
       "      <td>20240826-10:25:00</td>\n",
       "      <td>ORD456</td>\n",
       "      <td>2.0</td>\n",
       "      <td>GOOGL</td>\n",
       "      <td>NaN</td>\n",
       "      <td>NaN</td>\n",
       "    </tr>\n",
       "    <tr>\n",
       "      <th>62</th>\n",
       "      <td>U</td>\n",
       "      <td>28</td>\n",
       "      <td>JOHN_SENDER</td>\n",
       "      <td>MIKE_TARGET</td>\n",
       "      <td>20240826-10:26:00</td>\n",
       "      <td>ORD567</td>\n",
       "      <td>1.0</td>\n",
       "      <td>AAPL</td>\n",
       "      <td>NaN</td>\n",
       "      <td>NaN</td>\n",
       "    </tr>\n",
       "    <tr>\n",
       "      <th>63</th>\n",
       "      <td>V</td>\n",
       "      <td>29</td>\n",
       "      <td>JOHN_SENDER</td>\n",
       "      <td>MIKE_TARGET</td>\n",
       "      <td>20240826-10:27:00</td>\n",
       "      <td>ORD678</td>\n",
       "      <td>2.0</td>\n",
       "      <td>AMZN</td>\n",
       "      <td>NaN</td>\n",
       "      <td>NaN</td>\n",
       "    </tr>\n",
       "    <tr>\n",
       "      <th>64</th>\n",
       "      <td>W</td>\n",
       "      <td>30</td>\n",
       "      <td>JOHN_SENDER</td>\n",
       "      <td>MIKE_TARGET</td>\n",
       "      <td>20240826-10:28:00</td>\n",
       "      <td>ORD789</td>\n",
       "      <td>1.0</td>\n",
       "      <td>TSLA</td>\n",
       "      <td>655.0</td>\n",
       "      <td>150.0</td>\n",
       "    </tr>\n",
       "    <tr>\n",
       "      <th>65</th>\n",
       "      <td>X</td>\n",
       "      <td>31</td>\n",
       "      <td>JOHN_SENDER</td>\n",
       "      <td>MIKE_TARGET</td>\n",
       "      <td>20240826-10:29:00</td>\n",
       "      <td>None</td>\n",
       "      <td>NaN</td>\n",
       "      <td>None</td>\n",
       "      <td>NaN</td>\n",
       "      <td>NaN</td>\n",
       "    </tr>\n",
       "  </tbody>\n",
       "</table>\n",
       "<p>66 rows × 10 columns</p>\n",
       "</div>"
      ],
      "text/plain": [
       "   MsgType  MsgSeqNum SenderCompID TargetCompID        SendingTime OrderID  \\\n",
       "0        0          1  JOHN_SENDER  MIKE_TARGET  20240826-10:00:00    None   \n",
       "1        1          2  JOHN_SENDER  MIKE_TARGET  20240826-10:01:00    None   \n",
       "2        2          3  JOHN_SENDER  MIKE_TARGET  20240826-10:02:00    None   \n",
       "3        0          1  JOHN_SENDER  MIKE_TARGET  20240826-10:00:00    None   \n",
       "4        1          2  JOHN_SENDER  MIKE_TARGET  20240826-10:01:00    None   \n",
       "..     ...        ...          ...          ...                ...     ...   \n",
       "61       T         27  JOHN_SENDER  MIKE_TARGET  20240826-10:25:00  ORD456   \n",
       "62       U         28  JOHN_SENDER  MIKE_TARGET  20240826-10:26:00  ORD567   \n",
       "63       V         29  JOHN_SENDER  MIKE_TARGET  20240826-10:27:00  ORD678   \n",
       "64       W         30  JOHN_SENDER  MIKE_TARGET  20240826-10:28:00  ORD789   \n",
       "65       X         31  JOHN_SENDER  MIKE_TARGET  20240826-10:29:00    None   \n",
       "\n",
       "    Side Symbol  Price  Quantity  \n",
       "0    NaN   None    NaN       NaN  \n",
       "1    NaN   None    NaN       NaN  \n",
       "2    NaN   None    NaN       NaN  \n",
       "3    NaN   None    NaN       NaN  \n",
       "4    NaN   None    NaN       NaN  \n",
       "..   ...    ...    ...       ...  \n",
       "61   2.0  GOOGL    NaN       NaN  \n",
       "62   1.0   AAPL    NaN       NaN  \n",
       "63   2.0   AMZN    NaN       NaN  \n",
       "64   1.0   TSLA  655.0     150.0  \n",
       "65   NaN   None    NaN       NaN  \n",
       "\n",
       "[66 rows x 10 columns]"
      ]
     },
     "execution_count": 58,
     "metadata": {},
     "output_type": "execute_result"
    }
   ],
   "source": [
    "import pandas as pd\n",
    "\n",
    "df = pd.read_sql_query('SELECT * FROM fix_messages', conn)\n",
    "\n",
    "conn.close()\n",
    "df\n"
   ]
  },
  {
   "cell_type": "code",
   "execution_count": null,
   "id": "a5dbd5ae-c455-4e9b-8bdd-d2828d5d4b3e",
   "metadata": {},
   "outputs": [],
   "source": []
  },
  {
   "cell_type": "code",
   "execution_count": null,
   "id": "33dac15e-3efd-4f33-b100-dfafdedd89f7",
   "metadata": {},
   "outputs": [],
   "source": []
  },
  {
   "cell_type": "code",
   "execution_count": null,
   "id": "24d20750-7ce1-452c-aeba-0bc8f8a6512e",
   "metadata": {},
   "outputs": [],
   "source": []
  },
  {
   "cell_type": "code",
   "execution_count": null,
   "id": "df6c2f78-28d9-436c-96f4-cd4a64debebd",
   "metadata": {},
   "outputs": [],
   "source": []
  }
 ],
 "metadata": {
  "kernelspec": {
   "display_name": "Python 3 (ipykernel)",
   "language": "python",
   "name": "python3"
  },
  "language_info": {
   "codemirror_mode": {
    "name": "ipython",
    "version": 3
   },
   "file_extension": ".py",
   "mimetype": "text/x-python",
   "name": "python",
   "nbconvert_exporter": "python",
   "pygments_lexer": "ipython3",
   "version": "3.12.4"
  }
 },
 "nbformat": 4,
 "nbformat_minor": 5
}
